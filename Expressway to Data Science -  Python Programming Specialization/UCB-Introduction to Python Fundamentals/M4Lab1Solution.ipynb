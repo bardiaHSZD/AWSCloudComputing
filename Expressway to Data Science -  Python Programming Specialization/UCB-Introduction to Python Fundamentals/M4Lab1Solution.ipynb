{
  "cells": [
    {
      "cell_type": "markdown",
      "metadata": {
        "id": "cnAUJprJdh9_"
      },
      "source": [
        "# Welcome to our Lab Practice!"
      ]
    },
    {
      "cell_type": "markdown",
      "metadata": {
        "id": "vVYcayGedmms"
      },
      "source": [
        "This lab is about repetition - while loops. Are you ready? Let's get started!"
      ]
    },
    {
      "cell_type": "markdown",
      "metadata": {
        "id": "JP8eGBVyeSQx"
      },
      "source": [
        "You will find some small tasks in sections below. "
      ]
    },
    {
      "cell_type": "markdown",
      "metadata": {
        "id": "EZ42d1Sue0Zp"
      },
      "source": [
        "###Task: Print all integers from -5 to 5. \n"
      ]
    },
    {
      "cell_type": "code",
      "execution_count": null,
      "metadata": {
        "colab": {
          "base_uri": "https://localhost:8080/"
        },
        "id": "yDzNIHsSeu85",
        "outputId": "3108ffd7-121f-49f4-ef17-81521eacc54b"
      },
      "outputs": [
        {
          "name": "stdout",
          "output_type": "stream",
          "text": [
            "-5\n",
            "-4\n",
            "-3\n",
            "-2\n",
            "-1\n",
            "0\n",
            "1\n",
            "2\n",
            "3\n",
            "4\n",
            "5\n"
          ]
        }
      ],
      "source": [
        "count = -5\n",
        "while count <= 5:\n",
        "  print(count)\n",
        "  count += 1\n"
      ]
    },
    {
      "cell_type": "markdown",
      "metadata": {
        "id": "u8WEYfEqIbWX"
      },
      "source": [
        "###Task: Print all integers of an interval given by the user\n",
        "\n",
        "Ask the user to enter two integers and print all integers between (including) them."
      ]
    },
    {
      "cell_type": "code",
      "execution_count": null,
      "metadata": {
        "colab": {
          "base_uri": "https://localhost:8080/"
        },
        "id": "LKSmcHRRJUYY",
        "outputId": "38be8f05-4b6d-40d4-9083-cdb343bb4b70"
      },
      "outputs": [
        {
          "name": "stdout",
          "output_type": "stream",
          "text": [
            "Enter the lower bound of interval: 2\n",
            "Enter the upper bound of interval: 5\n",
            "2\n",
            "3\n",
            "4\n",
            "5\n"
          ]
        }
      ],
      "source": [
        "low = int(input('Enter the lower bound of interval: '))\n",
        "high = int(input('Enter the upper bound of interval: '))\n",
        "count = low\n",
        "while count <= high:\n",
        "  print(count)\n",
        "  count += 1"
      ]
    },
    {
      "cell_type": "markdown",
      "metadata": {
        "id": "-__o8ovbfSEH"
      },
      "source": [
        "###Task: Double The Number \n",
        "\n",
        "Step 1: Ask the user to enter a small positive number (0 - 10) \n",
        "\n",
        "Step 2: Double the number, print it out, and repeat, until the number beyond 1,000,000\n",
        "\n",
        "(How fast the number is growing)"
      ]
    },
    {
      "cell_type": "code",
      "execution_count": null,
      "metadata": {
        "colab": {
          "base_uri": "https://localhost:8080/"
        },
        "id": "hOpxhSKog18Y",
        "outputId": "e3aa7191-f063-4a23-b871-a31881542d4e"
      },
      "outputs": [
        {
          "name": "stdout",
          "output_type": "stream",
          "text": [
            "Enter a small positive number (0-10): 2\n",
            "2\n",
            "4\n",
            "8\n",
            "16\n",
            "32\n",
            "64\n",
            "128\n",
            "256\n",
            "512\n",
            "1024\n",
            "2048\n",
            "4096\n",
            "8192\n",
            "16384\n",
            "32768\n",
            "65536\n",
            "131072\n",
            "262144\n",
            "524288\n"
          ]
        }
      ],
      "source": [
        "n = int(input('Enter a small positive number (0-10): '))\n",
        "while n <= 1000000:\n",
        "  n *= 2\n",
        "  print(n)"
      ]
    },
    {
      "cell_type": "markdown",
      "metadata": {
        "id": "uZYVZQIvIlPy"
      },
      "source": [
        "###Task: Keep asking for candy until 'STOP'  \n",
        "\n",
        "Step1: Ask the user to enter anything\n",
        "\n",
        "Step2: print a message 'Thanks! I got a candy'\n",
        "\n",
        "Step3: Repeat Step 1 and 2, until the user enter 'Done'\n",
        "\n",
        "Step4: print a message 'Thanks! I have enough.'"
      ]
    },
    {
      "cell_type": "code",
      "execution_count": null,
      "metadata": {
        "colab": {
          "base_uri": "https://localhost:8080/"
        },
        "id": "Y_3dcyvcQ2GI",
        "outputId": "e10fffac-0891-49e4-f4a8-321ec7715a2d"
      },
      "outputs": [
        {
          "name": "stdout",
          "output_type": "stream",
          "text": [
            "Enter anything to continue, enter \"Done\" to stop: else\n",
            "Thanks! I got a candy\n",
            "Enter anything to continue, enter \"Done\" to stop: ok\n",
            "Thanks! I got a candy\n",
            "Enter anything to continue, enter \"Done\" to stop: Done\n",
            "Thanks! I have enough\n"
          ]
        }
      ],
      "source": [
        "msg = input('Enter anything to continue, enter \"Done\" to stop: ')\n",
        "while msg != 'Done':\n",
        "  print('Thanks! I got a candy')\n",
        "  msg = input('Enter anything to continue, enter \"Done\" to stop: ')\n",
        "print('Thanks! I have enough')"
      ]
    },
    {
      "cell_type": "markdown",
      "metadata": {
        "id": "qKFwdIypmt5J"
      },
      "source": [
        "### Task: Password Setup\n",
        "\n",
        "*   Ask the user to enter a new password.\n",
        "*   Ask the user to enter the password again.\n",
        "*   If the second input matches the first one, print \"You are all set\", otherwise, repeat the process.\n"
      ]
    },
    {
      "cell_type": "code",
      "execution_count": null,
      "metadata": {
        "colab": {
          "base_uri": "https://localhost:8080/"
        },
        "id": "6pqvFtl8nHei",
        "outputId": "90db986e-50c3-4c21-d1bd-75fe53b5265b"
      },
      "outputs": [
        {
          "name": "stdout",
          "output_type": "stream",
          "text": [
            "Enter a new password:12\n",
            "Enter the password again:3\n",
            "Enter a new password:12\n",
            "Enter the password again:12\n",
            "You are all set\n"
          ]
        }
      ],
      "source": [
        "password1 = input('Enter a new password:')\n",
        "password2 = input('Enter the password again:')\n",
        "while password1 != password2:\n",
        "  password1 = input('Enter a new password:')\n",
        "  password2 = input('Enter the password again:')\n",
        "print('You are all set')"
      ]
    }
  ],
  "metadata": {
    "colab": {
      "provenance": [],
      "toc_visible": true
    },
    "kernelspec": {
      "display_name": "Python 3",
      "name": "python3"
    },
    "language_info": {
      "codemirror_mode": {
        "name": "ipython",
        "version": 3
      },
      "file_extension": ".py",
      "mimetype": "text/x-python",
      "name": "python",
      "nbconvert_exporter": "python",
      "pygments_lexer": "ipython3",
      "version": "3.9.6"
    }
  },
  "nbformat": 4,
  "nbformat_minor": 0
}
