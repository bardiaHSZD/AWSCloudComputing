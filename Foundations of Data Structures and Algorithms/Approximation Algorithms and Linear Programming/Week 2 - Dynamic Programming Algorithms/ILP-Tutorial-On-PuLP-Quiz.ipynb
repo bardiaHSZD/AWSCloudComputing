{
 "cells": [
  {
   "cell_type": "code",
   "execution_count": 4,
   "id": "668d81e2",
   "metadata": {
    "ExecuteTime": {
     "end_time": "2023-10-06T19:26:00.182644Z",
     "start_time": "2023-10-06T19:26:00.166594Z"
    }
   },
   "outputs": [
    {
     "name": "stdout",
     "output_type": "stream",
     "text": [
      "Requirement already satisfied: pip in /Library/Frameworks/Python.framework/Versions/3.11/lib/python3.11/site-packages (23.3.1)\n",
      "Requirement already satisfied: pulp in /Library/Frameworks/Python.framework/Versions/3.11/lib/python3.11/site-packages (2.7.0)\n"
     ]
    }
   ],
   "source": [
    "!pip3 install --upgrade pip\n",
    "\n",
    "!pip3 install pulp\n"
   ]
  },
  {
   "cell_type": "markdown",
   "id": "874b4477",
   "metadata": {},
   "source": [
    "## Problem 1: \n",
    "\n",
    "### ILP Problem\n",
    "\n",
    "Objective:\n",
    "\n",
    "2x1​−3x2​+x3\n",
    "\n",
    "Constraints:\n",
    "\n",
    "​x1​−x2​+x3​≤5\n",
    "\n",
    "x1​−x2​+4x3​≤7\n",
    "\n",
    "x1​+2x2​−x3​+x4​≤14\n",
    "\n",
    "x3​−x4​+x5​≤7\n",
    "\n",
    "x1​,x2​,x3​,x4​,x5​∈[−15,15]\n",
    "\n",
    "x1​,x2​,x3​,x4​,x5​∈Z​"
   ]
  },
  {
   "cell_type": "code",
   "execution_count": 30,
   "id": "4bb8b4a1",
   "metadata": {},
   "outputs": [
    {
     "name": "stdout",
     "output_type": "stream",
     "text": [
      "Welcome to the CBC MILP Solver \n",
      "Version: 2.10.3 \n",
      "Build Date: Dec 15 2019 \n",
      "\n",
      "command line - /Library/Frameworks/Python.framework/Versions/3.11/lib/python3.11/site-packages/pulp/solverdir/cbc/osx/64/cbc /var/folders/70/jz6cvvk97t30vggrppkktlzh0000gn/T/16c4ca60921146cfba718d41714355f3-pulp.mps max timeMode elapsed branch printingOptions all solution /var/folders/70/jz6cvvk97t30vggrppkktlzh0000gn/T/16c4ca60921146cfba718d41714355f3-pulp.sol (default strategy 1)\n",
      "At line 2 NAME          MODEL\n",
      "At line 3 ROWS\n",
      "At line 9 COLUMNS\n",
      "At line 36 RHS\n",
      "At line 41 BOUNDS\n",
      "At line 52 ENDATA\n",
      "Problem MODEL has 4 rows, 5 columns and 13 elements\n",
      "Coin0008I MODEL read with 0 errors\n",
      "Option for timeMode changed from cpu to elapsed\n",
      "Continuous objective value is 40 - 0.00 seconds\n",
      "Cgl0004I processed model has 4 rows, 4 columns (4 integer (0 of which binary)) and 12 elements\n",
      "Cutoff increment increased from 1e-05 to 0.9999\n",
      "Cbc0012I Integer solution of -40 found by DiveCoefficient after 0 iterations and 0 nodes (0.01 seconds)\n",
      "Cbc0001I Search completed - best objective -40, took 0 iterations and 0 nodes (0.01 seconds)\n",
      "Cbc0035I Maximum depth 0, 0 variables fixed on reduced cost\n",
      "Cuts at root node changed objective from -40 to -40\n",
      "Probing was tried 0 times and created 0 cuts of which 0 were active after adding rounds of cuts (0.000 seconds)\n",
      "Gomory was tried 0 times and created 0 cuts of which 0 were active after adding rounds of cuts (0.000 seconds)\n",
      "Knapsack was tried 0 times and created 0 cuts of which 0 were active after adding rounds of cuts (0.000 seconds)\n",
      "Clique was tried 0 times and created 0 cuts of which 0 were active after adding rounds of cuts (0.000 seconds)\n",
      "MixedIntegerRounding2 was tried 0 times and created 0 cuts of which 0 were active after adding rounds of cuts (0.000 seconds)\n",
      "FlowCover was tried 0 times and created 0 cuts of which 0 were active after adding rounds of cuts (0.000 seconds)\n",
      "TwoMirCuts was tried 0 times and created 0 cuts of which 0 were active after adding rounds of cuts (0.000 seconds)\n",
      "ZeroHalf was tried 0 times and created 0 cuts of which 0 were active after adding rounds of cuts (0.000 seconds)\n",
      "\n",
      "Result - Optimal solution found\n",
      "\n",
      "Objective value:                40.00000000\n",
      "Enumerated nodes:               0\n",
      "Total iterations:               0\n",
      "Time (CPU seconds):             0.00\n",
      "Time (Wallclock seconds):       0.01\n",
      "\n",
      "Option for printingOptions changed from normal to all\n",
      "Total time (CPU seconds):       0.00   (Wallclock seconds):       0.02\n",
      "\n",
      "Problem Status: 1\n"
     ]
    }
   ],
   "source": [
    "from pulp import *\n",
    "\n",
    "# Create a minimization problem\n",
    "problem = LpProblem(\"ILP_Minimization\", LpMaximize)\n",
    "\n",
    "# Define the decision variables with lower and upper bounds as integers\n",
    "x1 = LpVariable(\"x1\", lowBound=-15, upBound=15, cat=LpInteger)\n",
    "x2 = LpVariable(\"x2\", lowBound=-15, upBound=15, cat=LpInteger)\n",
    "x3 = LpVariable(\"x3\", lowBound=-15, upBound=15, cat=LpInteger)\n",
    "x4 = LpVariable(\"x4\", lowBound=-15, upBound=15, cat=LpInteger)\n",
    "x5 = LpVariable(\"x5\", lowBound=-15, upBound=15, cat=LpInteger)\n",
    "\n",
    "# Define the objective function\n",
    "objective_function = 2 * x1 - 3 * x2 + x3\n",
    "problem += objective_function, \"Objective Function\"\n",
    "\n",
    "# Define the constraints\n",
    "problem += x1 - x2 + x3 <= 5, \"Constraint 1\"\n",
    "problem += x1 - x2 + 4 * x3 <= 7, \"Constraint 2\"\n",
    "problem += x1 + 2 * x2 - x3 + x4 <= 14, \"Constraint 3\"\n",
    "problem += x3 - x4 + x5 <= 7, \"Constraint 4\"\n",
    "\n",
    "# Solve the problem\n",
    "problem.solve()\n",
    "\n",
    "print ('Problem Status:',problem.status)\n",
    "\n",
    "\n",
    "    "
   ]
  },
  {
   "cell_type": "code",
   "execution_count": null,
   "id": "8386d177",
   "metadata": {},
   "outputs": [],
   "source": [
    "# Print the results\n",
    "if problem.status == LpStatusOptimal:\n",
    "    print(\"Optimal Solution Found:\")\n",
    "    print(f\"x1 = {x1.varValue}\")\n",
    "    print(f\"x2 = {x2.varValue}\")\n",
    "    print(f\"x3 = {x3.varValue}\")\n",
    "    print(f\"x4 = {x4.varValue}\")\n",
    "    print(f\"x5 = {x5.varValue}\")\n",
    "    print(f\"Objective Value = {value(problem.objective)}\")\n",
    "elif problem.status == constants.LpStatusInfeasible:\n",
    "    print('Problem is infeasible')\n",
    "elif problem.status == constants.LpStatusUnbounded:\n",
    "    print('Problem is unbounded. Cannot proceed')   "
   ]
  },
  {
   "cell_type": "markdown",
   "id": "f8ad2879",
   "metadata": {},
   "source": [
    "### LP Relaxation:"
   ]
  },
  {
   "cell_type": "code",
   "execution_count": 32,
   "id": "b5eb515b",
   "metadata": {},
   "outputs": [
    {
     "name": "stdout",
     "output_type": "stream",
     "text": [
      "Welcome to the CBC MILP Solver \n",
      "Version: 2.10.3 \n",
      "Build Date: Dec 15 2019 \n",
      "\n",
      "command line - /Library/Frameworks/Python.framework/Versions/3.11/lib/python3.11/site-packages/pulp/solverdir/cbc/osx/64/cbc /var/folders/70/jz6cvvk97t30vggrppkktlzh0000gn/T/96d45457c77242c2b6ce55eac3d571d9-pulp.mps max timeMode elapsed branch printingOptions all solution /var/folders/70/jz6cvvk97t30vggrppkktlzh0000gn/T/96d45457c77242c2b6ce55eac3d571d9-pulp.sol (default strategy 1)\n",
      "At line 2 NAME          MODEL\n",
      "At line 3 ROWS\n",
      "At line 9 COLUMNS\n",
      "At line 26 RHS\n",
      "At line 31 BOUNDS\n",
      "At line 42 ENDATA\n",
      "Problem MODEL has 4 rows, 5 columns and 13 elements\n",
      "Coin0008I MODEL read with 0 errors\n",
      "Option for timeMode changed from cpu to elapsed\n",
      "Presolve 4 (0) rows, 4 (-1) columns and 12 (-1) elements\n",
      "0  Obj -0 Dual inf 2.999998 (2)\n",
      "1  Obj 40\n",
      "Optimal - objective value 40\n",
      "After Postsolve, objective 40, infeasibilities - dual 0 (0), primal 0 (0)\n",
      "Optimal objective 40 - 1 iterations time 0.002, Presolve 0.00\n",
      "Option for printingOptions changed from normal to all\n",
      "Total time (CPU seconds):       0.00   (Wallclock seconds):       0.04\n",
      "\n",
      "Problem Status: 1\n"
     ]
    }
   ],
   "source": [
    "from pulp import *\n",
    "\n",
    "# Create a minimization problem\n",
    "problem = LpProblem(\"ILP_Minimization\", LpMaximize)\n",
    "\n",
    "# Define the decision variables with lower and upper bounds as integers\n",
    "x1 = LpVariable(\"x1\", lowBound=-15, upBound=15)\n",
    "x2 = LpVariable(\"x2\", lowBound=-15, upBound=15)\n",
    "x3 = LpVariable(\"x3\", lowBound=-15, upBound=15)\n",
    "x4 = LpVariable(\"x4\", lowBound=-15, upBound=15)\n",
    "x5 = LpVariable(\"x5\", lowBound=-15, upBound=15)\n",
    "\n",
    "# Define the objective function\n",
    "objective_function = 2 * x1 - 3 * x2 + x3\n",
    "problem += objective_function, \"Objective Function\"\n",
    "\n",
    "# Define the constraints\n",
    "problem += x1 - x2 + x3 <= 5, \"Constraint 1\"\n",
    "problem += x1 - x2 + 4 * x3 <= 7, \"Constraint 2\"\n",
    "problem += x1 + 2 * x2 - x3 + x4 <= 14, \"Constraint 3\"\n",
    "problem += x3 - x4 + x5 <= 7, \"Constraint 4\"\n",
    "\n",
    "# Solve the problem\n",
    "problem.solve()\n",
    "\n",
    "print ('Problem Status:',problem.status)"
   ]
  },
  {
   "cell_type": "code",
   "execution_count": 33,
   "id": "6c50ca29",
   "metadata": {},
   "outputs": [
    {
     "name": "stdout",
     "output_type": "stream",
     "text": [
      "Optimal Solution Found:\n",
      "x1 = 5.0\n",
      "x2 = -15.0\n",
      "x3 = -15.0\n",
      "x4 = -15.0\n",
      "x5 = -15.0\n",
      "Objective Value = 40.0\n"
     ]
    }
   ],
   "source": [
    "# Print the results\n",
    "if problem.status == LpStatusOptimal:\n",
    "    print(\"Optimal Solution Found:\")\n",
    "    print(f\"x1 = {x1.varValue}\")\n",
    "    print(f\"x2 = {x2.varValue}\")\n",
    "    print(f\"x3 = {x3.varValue}\")\n",
    "    print(f\"x4 = {x4.varValue}\")\n",
    "    print(f\"x5 = {x5.varValue}\")\n",
    "    print(f\"Objective Value = {value(problem.objective)}\")\n",
    "elif problem.status == constants.LpStatusInfeasible:\n",
    "    print('Problem is infeasible')\n",
    "elif problem.status == constants.LpStatusUnbounded:\n",
    "    print('Problem is unbounded. Cannot proceed')   "
   ]
  },
  {
   "cell_type": "markdown",
   "id": "8bf8218f",
   "metadata": {},
   "source": [
    "## Problem 2:\n",
    "### ILP:\n",
    "min 2x1​−3x2​+x3\n",
    "\n",
    "s.t.\n",
    "\n",
    "​x1​−x2​≥0.5\n",
    "\n",
    "x1​−x2​≤0.75\n",
    "\n",
    "x2​−x3​≤1.25\n",
    "\n",
    "x2​−x3​≥0.95\n",
    "\n",
    "x1​,x2​,x3​∈[−1,1]\n",
    "\n",
    "x1​,x2​,x3​∈Z​"
   ]
  },
  {
   "cell_type": "code",
   "execution_count": 12,
   "id": "ade3de47",
   "metadata": {},
   "outputs": [
    {
     "name": "stdout",
     "output_type": "stream",
     "text": [
      "Welcome to the CBC MILP Solver \n",
      "Version: 2.10.3 \n",
      "Build Date: Dec 15 2019 \n",
      "\n",
      "command line - /Library/Frameworks/Python.framework/Versions/3.11/lib/python3.11/site-packages/pulp/solverdir/cbc/osx/64/cbc /var/folders/70/jz6cvvk97t30vggrppkktlzh0000gn/T/9df0f2fd9cc54a4d903174d5367cca27-pulp.mps timeMode elapsed branch printingOptions all solution /var/folders/70/jz6cvvk97t30vggrppkktlzh0000gn/T/9df0f2fd9cc54a4d903174d5367cca27-pulp.sol (default strategy 1)\n",
      "At line 2 NAME          MODEL\n",
      "At line 3 ROWS\n",
      "At line 9 COLUMNS\n",
      "At line 27 RHS\n",
      "At line 32 BOUNDS\n",
      "At line 39 ENDATA\n",
      "Problem MODEL has 4 rows, 3 columns and 8 elements\n",
      "Coin0008I MODEL read with 0 errors\n",
      "Option for timeMode changed from cpu to elapsed\n",
      "Continuous objective value is -0.25 - 0.00 seconds\n",
      "Cgl0000I Cut generators found to be infeasible! (or unbounded)\n",
      "Pre-processing says infeasible or unbounded\n",
      "Option for printingOptions changed from normal to all\n",
      "Total time (CPU seconds):       0.00   (Wallclock seconds):       0.02\n",
      "\n",
      "Problem is infeasible\n"
     ]
    }
   ],
   "source": [
    "from pulp import *\n",
    "\n",
    "# Create a minimization problem\n",
    "problem = LpProblem(\"ILP_Minimization\", LpMinimize)\n",
    "\n",
    "# Define the decision variables with lower and upper bounds as integers\n",
    "x1 = LpVariable(\"x1\", lowBound=-1, upBound=1, cat=LpInteger)\n",
    "x2 = LpVariable(\"x2\", lowBound=-1, upBound=1, cat=LpInteger)\n",
    "x3 = LpVariable(\"x3\", lowBound=-1, upBound=1, cat=LpInteger)\n",
    "\n",
    "# Define the objective function\n",
    "objective_function = 2 * x1 - 3 * x2 + x3\n",
    "problem += objective_function\n",
    "\n",
    "# Define the constraints\n",
    "problem += x1 - x2 >= 0.5\n",
    "problem += x1 - x2 <= 0.75\n",
    "problem += x2 - x3 <= 1.25\n",
    "problem += x2 - x3 >= 0.95\n",
    "\n",
    "# Solve the problem\n",
    "problem.solve()\n",
    "\n",
    "# Print the results\n",
    "if problem.status == LpStatusOptimal:\n",
    "    print(\"Optimal Solution Found:\")\n",
    "    print(f\"x1 = {x1.varValue}\")\n",
    "    print(f\"x2 = {x2.varValue}\")\n",
    "    print(f\"x3 = {x3.varValue}\")\n",
    "    print(f\"Objective Value = {value(problem.objective)}\")\n",
    "elif problem.status == constants.LpStatusInfeasible:\n",
    "    print('Problem is infeasible')\n",
    "elif problem.status == constants.LpStatusUnbounded:\n",
    "    print('Problem is unbounded. Cannot proceed')\n"
   ]
  },
  {
   "cell_type": "markdown",
   "id": "844c4610",
   "metadata": {},
   "source": [
    "### Problem 1: LP relaxation"
   ]
  },
  {
   "cell_type": "code",
   "execution_count": 14,
   "id": "cfd69237",
   "metadata": {},
   "outputs": [
    {
     "name": "stdout",
     "output_type": "stream",
     "text": [
      "Welcome to the CBC MILP Solver \n",
      "Version: 2.10.3 \n",
      "Build Date: Dec 15 2019 \n",
      "\n",
      "command line - /Library/Frameworks/Python.framework/Versions/3.11/lib/python3.11/site-packages/pulp/solverdir/cbc/osx/64/cbc /var/folders/70/jz6cvvk97t30vggrppkktlzh0000gn/T/fce3aec85354410db8e029e60bfec0d6-pulp.mps timeMode elapsed branch printingOptions all solution /var/folders/70/jz6cvvk97t30vggrppkktlzh0000gn/T/fce3aec85354410db8e029e60bfec0d6-pulp.sol (default strategy 1)\n",
      "At line 2 NAME          MODEL\n",
      "At line 3 ROWS\n",
      "At line 9 COLUMNS\n",
      "At line 21 RHS\n",
      "At line 26 BOUNDS\n",
      "At line 33 ENDATA\n",
      "Problem MODEL has 4 rows, 3 columns and 8 elements\n",
      "Coin0008I MODEL read with 0 errors\n",
      "Option for timeMode changed from cpu to elapsed\n",
      "Presolve 4 (0) rows, 3 (0) columns and 8 (0) elements\n",
      "0  Obj 0 Primal inf 1.4499998 (2) Dual inf 2.9999999 (1)\n",
      "2  Obj -0.25\n",
      "Optimal - objective value -0.25\n",
      "Optimal objective -0.25 - 2 iterations time 0.002\n",
      "Option for printingOptions changed from normal to all\n",
      "Total time (CPU seconds):       0.00   (Wallclock seconds):       0.02\n",
      "\n",
      "Optimal Solution Found:\n",
      "x1 = 1.0\n",
      "x2 = 0.5\n",
      "x3 = -0.75\n",
      "Objective Value = -0.25\n"
     ]
    }
   ],
   "source": [
    "import pulp\n",
    "\n",
    "# Create a linear programming (LP) relaxation problem\n",
    "problem = LpProblem(\"LP_Relaxation\", LpMinimize)\n",
    "\n",
    "# Define the decision variables with lower and upper bounds\n",
    "x1 = LpVariable(\"x1\", lowBound=-1, upBound=1)\n",
    "x2 = LpVariable(\"x2\", lowBound=-1, upBound=1)\n",
    "x3 = LpVariable(\"x3\", lowBound=-1, upBound=1)\n",
    "\n",
    "# Define the objective function\n",
    "objective_function = 2 * x1 - 3 * x2 + x3\n",
    "problem += objective_function, \"Objective Function\"\n",
    "\n",
    "# Define the constraints\n",
    "problem += x1 - x2 >= 0.5, \"Constraint 1\"\n",
    "problem += x1 - x2 <= 0.75, \"Constraint 2\"\n",
    "problem += x2 - x3 <= 1.25, \"Constraint 3\"\n",
    "problem += x2 - x3 >= 0.95, \"Constraint 4\"\n",
    "\n",
    "# Solve the LP relaxation problem\n",
    "problem.solve()\n",
    "\n",
    "# Print the results\n",
    "if problem.status == LpStatusOptimal:\n",
    "    print(\"Optimal Solution Found:\")\n",
    "    print(f\"x1 = {x1.varValue}\")\n",
    "    print(f\"x2 = {x2.varValue}\")\n",
    "    print(f\"x3 = {x3.varValue}\")\n",
    "    print(f\"Objective Value = {value(problem.objective)}\")\n",
    "elif problem.status == constants.LpStatusInfeasible:\n",
    "    print('Problem is infeasible')\n",
    "elif problem.status == constants.LpStatusUnbounded:\n",
    "    print('Problem is unbounded. Cannot proceed')\n"
   ]
  }
 ],
 "metadata": {
  "kernelspec": {
   "display_name": "Python 3",
   "language": "python",
   "name": "python3"
  },
  "language_info": {
   "codemirror_mode": {
    "name": "ipython",
    "version": 3
   },
   "file_extension": ".py",
   "mimetype": "text/x-python",
   "name": "python",
   "nbconvert_exporter": "python",
   "pygments_lexer": "ipython3",
   "version": "3.11.5"
  }
 },
 "nbformat": 4,
 "nbformat_minor": 5
}
