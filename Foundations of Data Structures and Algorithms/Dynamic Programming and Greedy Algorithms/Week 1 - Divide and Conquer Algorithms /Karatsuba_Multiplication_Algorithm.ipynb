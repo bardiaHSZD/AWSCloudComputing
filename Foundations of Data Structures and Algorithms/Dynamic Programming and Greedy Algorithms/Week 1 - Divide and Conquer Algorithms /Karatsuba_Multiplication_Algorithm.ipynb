{
  "nbformat": 4,
  "nbformat_minor": 5,
  "metadata": {
    "kernelspec": {
      "display_name": "Python 3",
      "name": "python3"
    },
    "language_info": {
      "codemirror_mode": {
        "name": "ipython",
        "version": 3
      },
      "file_extension": ".py",
      "mimetype": "text/x-python",
      "name": "python",
      "nbconvert_exporter": "python",
      "pygments_lexer": "ipython3",
      "version": "3.9.1"
    },
    "colab": {
      "provenance": [],
      "gpuType": "V100"
    },
    "accelerator": "GPU"
  },
  "cells": [
    {
      "cell_type": "code",
      "metadata": {
        "colab": {
          "base_uri": "https://localhost:8080/"
        },
        "id": "purple-flooring",
        "outputId": "ca735452-2db6-40e6-bb88-cfb4332529df"
      },
      "source": [
        "try:\n",
        "    %load_ext autotime\n",
        "except:\n",
        "    !pip install ipython-autotime\n",
        "    %load_ext autotime"
      ],
      "id": "purple-flooring",
      "execution_count": 1,
      "outputs": [
        {
          "output_type": "stream",
          "name": "stdout",
          "text": [
            "Collecting ipython-autotime\n",
            "  Downloading ipython_autotime-0.3.1-py2.py3-none-any.whl (6.8 kB)\n",
            "Requirement already satisfied: ipython in /usr/local/lib/python3.10/dist-packages (from ipython-autotime) (7.34.0)\n",
            "Requirement already satisfied: setuptools>=18.5 in /usr/local/lib/python3.10/dist-packages (from ipython->ipython-autotime) (67.7.2)\n",
            "Collecting jedi>=0.16 (from ipython->ipython-autotime)\n",
            "  Downloading jedi-0.19.1-py2.py3-none-any.whl (1.6 MB)\n",
            "\u001b[2K     \u001b[90m━━━━━━━━━━━━━━━━━━━━━━━━━━━━━━━━━━━━━━━━\u001b[0m \u001b[32m1.6/1.6 MB\u001b[0m \u001b[31m7.2 MB/s\u001b[0m eta \u001b[36m0:00:00\u001b[0m\n",
            "\u001b[?25hRequirement already satisfied: decorator in /usr/local/lib/python3.10/dist-packages (from ipython->ipython-autotime) (4.4.2)\n",
            "Requirement already satisfied: pickleshare in /usr/local/lib/python3.10/dist-packages (from ipython->ipython-autotime) (0.7.5)\n",
            "Requirement already satisfied: traitlets>=4.2 in /usr/local/lib/python3.10/dist-packages (from ipython->ipython-autotime) (5.7.1)\n",
            "Requirement already satisfied: prompt-toolkit!=3.0.0,!=3.0.1,<3.1.0,>=2.0.0 in /usr/local/lib/python3.10/dist-packages (from ipython->ipython-autotime) (3.0.39)\n",
            "Requirement already satisfied: pygments in /usr/local/lib/python3.10/dist-packages (from ipython->ipython-autotime) (2.16.1)\n",
            "Requirement already satisfied: backcall in /usr/local/lib/python3.10/dist-packages (from ipython->ipython-autotime) (0.2.0)\n",
            "Requirement already satisfied: matplotlib-inline in /usr/local/lib/python3.10/dist-packages (from ipython->ipython-autotime) (0.1.6)\n",
            "Requirement already satisfied: pexpect>4.3 in /usr/local/lib/python3.10/dist-packages (from ipython->ipython-autotime) (4.8.0)\n",
            "Requirement already satisfied: parso<0.9.0,>=0.8.3 in /usr/local/lib/python3.10/dist-packages (from jedi>=0.16->ipython->ipython-autotime) (0.8.3)\n",
            "Requirement already satisfied: ptyprocess>=0.5 in /usr/local/lib/python3.10/dist-packages (from pexpect>4.3->ipython->ipython-autotime) (0.7.0)\n",
            "Requirement already satisfied: wcwidth in /usr/local/lib/python3.10/dist-packages (from prompt-toolkit!=3.0.0,!=3.0.1,<3.1.0,>=2.0.0->ipython->ipython-autotime) (0.2.8)\n",
            "Installing collected packages: jedi, ipython-autotime\n",
            "Successfully installed ipython-autotime-0.3.1 jedi-0.19.1\n",
            "time: 332 µs (started: 2023-10-18 19:36:24 +00:00)\n"
          ]
        }
      ]
    },
    {
      "cell_type": "markdown",
      "metadata": {
        "id": "functional-ethics"
      },
      "source": [
        "## Bitwise representation of numbers\n",
        "\n",
        "We will represent numbers in binary as a sequence of 1s and 0s.\n",
        "Recall  the basics of converting decimal numbers into binary and vice versa.\n",
        "\n",
        "### Example\n",
        "The number 5 in decimal is written as $101$ in binary:\n",
        "$5_{10} = 101_2 $\n",
        "\n",
        "\n",
        "| Decimal | Binary |\n",
        "|---|---|\n",
        "| 5 | 101 |\n",
        "| 12 | 1100 |\n",
        "| 16 | 10000 |\n",
        "| 23 | 10111 |\n",
        "\n",
        "We will represent binary numbers as a list but the least significant bit is the first element and most significant bit is the last element.\n",
        "Eg., the number $(1011)_2$ is written in a list as `[1, 1, 0, 1]`."
      ],
      "id": "functional-ethics"
    },
    {
      "cell_type": "code",
      "metadata": {
        "colab": {
          "base_uri": "https://localhost:8080/"
        },
        "id": "several-shuttle",
        "outputId": "b3a94797-1b52-4c43-df88-af6660f770da"
      },
      "source": [
        "def convert_to_binary(n):\n",
        "    assert n >= 0\n",
        "    if n == 0:\n",
        "        return [0]\n",
        "    lst = []\n",
        "    while n > 0:\n",
        "        lst.append( n % 2)\n",
        "        n = n // 2 # Integer division in python uses //\n",
        "    return lst\n",
        "\n",
        "def convert_to_decimal(lst):\n",
        "    sum = 0\n",
        "    f = 1\n",
        "    for elt in lst:\n",
        "        sum = sum + elt * f\n",
        "        f = f * 2\n",
        "    return sum"
      ],
      "id": "several-shuttle",
      "execution_count": 2,
      "outputs": [
        {
          "output_type": "stream",
          "name": "stdout",
          "text": [
            "time: 968 µs (started: 2023-10-18 19:36:24 +00:00)\n"
          ]
        }
      ]
    },
    {
      "cell_type": "code",
      "metadata": {
        "colab": {
          "base_uri": "https://localhost:8080/"
        },
        "id": "naval-dutch",
        "outputId": "3dafdbce-471e-41cd-a0b3-ca3f2b61a82a"
      },
      "source": [
        "print(f'6 = {convert_to_binary(6)}')\n",
        "print(f'23 = {convert_to_binary(23)}')\n",
        "print(f'46 = {convert_to_binary(46)}')\n",
        "print(f'128 = {convert_to_binary(128)}')\n",
        "print(f'71 = {convert_to_binary(71)}')\n",
        "print(convert_to_decimal([1, 0, 1, 1, 0, 1])) # should be 45\n",
        "print(convert_to_decimal([0, 1, 1, 0, 1])) # should be 22"
      ],
      "id": "naval-dutch",
      "execution_count": 3,
      "outputs": [
        {
          "output_type": "stream",
          "name": "stdout",
          "text": [
            "6 = [0, 1, 1]\n",
            "23 = [1, 1, 1, 0, 1]\n",
            "46 = [0, 1, 1, 1, 0, 1]\n",
            "128 = [0, 0, 0, 0, 0, 0, 0, 1]\n",
            "71 = [1, 1, 1, 0, 0, 0, 1]\n",
            "45\n",
            "22\n",
            "time: 2.13 ms (started: 2023-10-18 19:36:24 +00:00)\n"
          ]
        }
      ]
    },
    {
      "cell_type": "markdown",
      "metadata": {
        "id": "copyrighted-variance"
      },
      "source": [
        "## Addition and Subtraction\n",
        "\n",
        "We will implement addition and subtraction for binary numbers.\n",
        "Addition was discussed in the lecture. For subtraction, we use a very nice trick called twos-complement method that turns subtraction into addition after flipping 1s and 0s.\n",
        "See here for a quick explanation:\n",
        "\n",
        "https://www.geeksforgeeks.org/subtraction-of-two-numbers-using-2s-complement/"
      ],
      "id": "copyrighted-variance"
    },
    {
      "cell_type": "code",
      "metadata": {
        "colab": {
          "base_uri": "https://localhost:8080/"
        },
        "id": "curious-shakespeare",
        "outputId": "bdec1725-9ace-4dd0-b736-44711d7243dd"
      },
      "source": [
        "def bitwise_add(ai, bi, ci):\n",
        "    if ai == 0:\n",
        "        if bi == 0:\n",
        "            return (ci, 0)\n",
        "        else: # ai= 0, bi = 1\n",
        "            return (1-ci, ci)\n",
        "    else:\n",
        "        if bi == 0:\n",
        "            return (1-ci, ci)\n",
        "        else:\n",
        "            return (ci, 1)\n",
        "\n",
        "def add(a, b):\n",
        "    # add bit strings a, b\n",
        "    (n, m) = len(a), len(b)\n",
        "    carry = 0\n",
        "    c = []\n",
        "    for i in range(max(m,n)):\n",
        "        ai = a[i] if i < n else 0\n",
        "        bi = b[i] if i < m else 0\n",
        "        (ci, carry) = bitwise_add(ai, bi, carry)\n",
        "        c.append(ci)\n",
        "    if carry == 1:\n",
        "        c.append(carry)\n",
        "    return c\n",
        "\n",
        "def subtract(a, b):\n",
        "    # we will use two's complement subtraction\n",
        "    # this is a very nice and common trick where\n",
        "    # we can use addition to perform subraction of\n",
        "    # binary numbers. It is used inside computers.\n",
        "    # assume a >= b -- this will generally hold for all our use cases\n",
        "    n = len(a)\n",
        "    #assert(len(b) <= n)\n",
        "    k = len(a) - len(b)\n",
        "    bcomp = [1-elt for elt in b] + [1]*k # flip the bits in b and pad with 1s\n",
        "    bcomp2 = add(bcomp, [1]) # add 1\n",
        "    r = add(a, bcomp2)\n",
        "    return r[0:n]\n",
        "\n",
        "def pad(a, k):\n",
        "    return  [0]*k + a"
      ],
      "id": "curious-shakespeare",
      "execution_count": 4,
      "outputs": [
        {
          "output_type": "stream",
          "name": "stdout",
          "text": [
            "time: 1.98 ms (started: 2023-10-18 19:36:24 +00:00)\n"
          ]
        }
      ]
    },
    {
      "cell_type": "code",
      "metadata": {
        "colab": {
          "base_uri": "https://localhost:8080/"
        },
        "id": "romantic-corporation",
        "outputId": "725c24a6-7549-4211-b9a8-c906c0b4216b"
      },
      "source": [
        "print(add([1,0,1,1,0], [1, 0, 0, 0, 1])) # should be 0, 1, 1, 1, 1\n",
        "print(add([0, 1, 1], [1, 1, 1])) # should be 1, 0, 1, 1\n",
        "print(add([0, 1], [1, 1, 1])) # should be 1, 0, 0, 1\n",
        "print(add([0], [1,0,1,0,1,1,0,1])) # should be 1, 0, 1, 0, 1, 1, 0, 1"
      ],
      "id": "romantic-corporation",
      "execution_count": 5,
      "outputs": [
        {
          "output_type": "stream",
          "name": "stdout",
          "text": [
            "[0, 1, 1, 1, 1]\n",
            "[1, 0, 1, 1]\n",
            "[1, 0, 0, 1]\n",
            "[1, 0, 1, 0, 1, 1, 0, 1]\n",
            "time: 1.52 ms (started: 2023-10-18 19:36:24 +00:00)\n"
          ]
        }
      ]
    },
    {
      "cell_type": "code",
      "metadata": {
        "id": "becoming-premises",
        "outputId": "880410c3-e6bd-46f4-aedf-cb3b89b0f8ad",
        "colab": {
          "base_uri": "https://localhost:8080/"
        }
      },
      "source": [
        "print(subtract([1,1,1],[1])) # should be [0, 1, 1]\n",
        "print(subtract([1,0,1], [0, 1])) # should be [1, 1, 0]\n",
        "print(subtract([0, 0, 0, 1], [1, 1])) # should be [1, 0, 1, 0]\n",
        "print(subtract([0, 1, 0, 1], [1, 0, 0, 1])) # should be [1, 0, 0, 0]\n",
        "print(subtract([0, 1, 0, 1, 1, 1, 0, 1],[0]))"
      ],
      "id": "becoming-premises",
      "execution_count": 6,
      "outputs": [
        {
          "output_type": "stream",
          "name": "stdout",
          "text": [
            "[0, 1, 1]\n",
            "[1, 1, 0]\n",
            "[1, 0, 1, 0]\n",
            "[1, 0, 0, 0]\n",
            "[0, 1, 0, 1, 1, 1, 0, 1]\n",
            "time: 1.91 ms (started: 2023-10-18 19:36:24 +00:00)\n"
          ]
        }
      ]
    },
    {
      "cell_type": "code",
      "metadata": {
        "id": "intended-wrong",
        "outputId": "7a1b70d3-e10c-4b01-f640-b92fb0c78799",
        "colab": {
          "base_uri": "https://localhost:8080/"
        }
      },
      "source": [
        "def grade_school_multiply(a, b):\n",
        "    n, m = len(a), len(b)\n",
        "    tmp = a\n",
        "    res = [0]\n",
        "    for bit in b:\n",
        "        if bit == 1:\n",
        "            res = add(res, tmp)\n",
        "        tmp = [0]+tmp # shift tmp\n",
        "    return res"
      ],
      "id": "intended-wrong",
      "execution_count": 7,
      "outputs": [
        {
          "output_type": "stream",
          "name": "stdout",
          "text": [
            "time: 535 µs (started: 2023-10-18 19:36:24 +00:00)\n"
          ]
        }
      ]
    },
    {
      "cell_type": "code",
      "metadata": {
        "id": "resistant-romantic",
        "outputId": "17ad0d26-b3ff-4f1e-8652-b6ac860122da",
        "colab": {
          "base_uri": "https://localhost:8080/"
        }
      },
      "source": [
        "print(grade_school_multiply([1, 0, 1], [0, 1])) #  should be 0, 1, 0, 1\n",
        "print(grade_school_multiply([0, 1, 1], [1, 1])) # should be 0, 1, 0, 0 , 1\n",
        "print(grade_school_multiply([0, 0, 1], [1, 0, 1])) # should be 0, 0, 1, 0 , 1\n",
        "print(grade_school_multiply([0, 0, 0, 1], [1, 0, 1])) # should be 0, 0, 0, 1, 0, 1"
      ],
      "id": "resistant-romantic",
      "execution_count": 8,
      "outputs": [
        {
          "output_type": "stream",
          "name": "stdout",
          "text": [
            "[0, 1, 0, 1]\n",
            "[0, 1, 0, 0, 1]\n",
            "[0, 0, 1, 0, 1]\n",
            "[0, 0, 0, 1, 0, 1]\n",
            "time: 4.99 ms (started: 2023-10-18 19:36:24 +00:00)\n"
          ]
        }
      ]
    },
    {
      "cell_type": "code",
      "metadata": {
        "id": "occasional-nothing",
        "outputId": "fc52fb0d-05f0-4ea8-92fb-6cd4090abfd0",
        "colab": {
          "base_uri": "https://localhost:8080/"
        }
      },
      "source": [
        "def karatsuba_multiply(a, b):\n",
        "    (m, n) = len(a), len(b)\n",
        "    if m <= 2 or n <= 2:\n",
        "        # revert to grade school multiplication\n",
        "        return grade_school_multiply(a, b)\n",
        "    else:\n",
        "        mid1 = m//2\n",
        "        a1 = a[0:mid1]\n",
        "        a2 = a[mid1:]\n",
        "        b1 = b[0:mid1]\n",
        "        b2 = b[mid1:]\n",
        "        # [a] = 2^{mid1} * [a2] + [a1]\n",
        "        # [b] = 2^{mid1} * [b2] + [b1]\n",
        "        # [a]* [b] = 2^{2*mid1} ([a2]*[b2]) + 2^mid1 ([a2]*[b1] + [a2]*[b1]) + [a1]*[b1]\n",
        "\n",
        "        # 3 recursive calls to karatsuba_multiply\n",
        "        r1 = karatsuba_multiply(a1, b1)\n",
        "        r2 = karatsuba_multiply(a2, b2)\n",
        "        r3 = karatsuba_multiply(add(a1, a2), add(b1, b2))\n",
        "        # Do subtraction\n",
        "        r4a = subtract(r3, r1)\n",
        "        r4 = subtract(r4a, r2)\n",
        "\n",
        "        # Do paddding\n",
        "        s1 = pad(r2, 2*mid1)\n",
        "        s2 = pad(r4, mid1)\n",
        "        s3 = add(s1, s2)\n",
        "        return add(s3, r1)"
      ],
      "id": "occasional-nothing",
      "execution_count": 9,
      "outputs": [
        {
          "output_type": "stream",
          "name": "stdout",
          "text": [
            "time: 802 µs (started: 2023-10-18 19:36:24 +00:00)\n"
          ]
        }
      ]
    },
    {
      "cell_type": "code",
      "metadata": {
        "id": "stopped-evolution",
        "outputId": "55a0b845-0189-4051-9b1c-218fa1a63557",
        "colab": {
          "base_uri": "https://localhost:8080/"
        }
      },
      "source": [
        "print(karatsuba_multiply([0, 0, 0, 1], [1, 0, 1])) # should be 0, 0, 0, 1, 0, 1\n",
        "print(karatsuba_multiply([0, 0, 1], [1, 0, 1])) # should be 0, 0, 1, 0 , 1"
      ],
      "id": "stopped-evolution",
      "execution_count": 10,
      "outputs": [
        {
          "output_type": "stream",
          "name": "stdout",
          "text": [
            "[0, 0, 0, 1, 0, 1]\n",
            "[0, 0, 1, 0, 1]\n",
            "time: 1.24 ms (started: 2023-10-18 19:36:24 +00:00)\n"
          ]
        }
      ]
    },
    {
      "cell_type": "code",
      "metadata": {
        "id": "entertaining-contact",
        "outputId": "c71cd90b-9081-4791-e139-c8176cb9d068",
        "colab": {
          "base_uri": "https://localhost:8080/"
        }
      },
      "source": [
        "print(grade_school_multiply([1, 0, 1, 1, 0, 1, 0, 1, 1, 0, 1, 1, 0, 1, 1, 1, 0, 1, 1, 0, 1, 1, 0], [0, 1, 0, 1, 1, 0, 1, 1, 0, 1, 0, 1, 0, 0, 0, 0, 1, 1, 1, 0, 1, 0,1]))"
      ],
      "id": "entertaining-contact",
      "execution_count": 11,
      "outputs": [
        {
          "output_type": "stream",
          "name": "stdout",
          "text": [
            "[0, 1, 0, 0, 1, 0, 1, 0, 1, 1, 1, 0, 0, 1, 0, 0, 0, 1, 0, 1, 1, 0, 1, 1, 1, 0, 0, 1, 1, 0, 0, 0, 1, 0, 1, 1, 0, 1, 0, 1, 0, 1, 0, 0, 1]\n",
            "time: 3.91 ms (started: 2023-10-18 19:36:24 +00:00)\n"
          ]
        }
      ]
    },
    {
      "cell_type": "code",
      "metadata": {
        "id": "automatic-register",
        "outputId": "70d1b9cd-64af-4856-b7c1-032e8ed984c7",
        "colab": {
          "base_uri": "https://localhost:8080/"
        }
      },
      "source": [
        "print(karatsuba_multiply([1, 0, 1, 1, 0, 1, 0, 1, 1, 0, 1, 1, 0, 1, 1, 1, 0, 1, 1, 0, 1, 1, 0], [0, 1, 0, 1, 1, 0, 1, 1, 0, 1, 0, 1, 0, 0, 0, 0, 1, 1, 1, 0, 1, 0,1]))"
      ],
      "id": "automatic-register",
      "execution_count": 12,
      "outputs": [
        {
          "output_type": "stream",
          "name": "stdout",
          "text": [
            "[0, 1, 0, 0, 1, 0, 1, 0, 1, 1, 1, 0, 0, 1, 0, 0, 0, 1, 0, 1, 1, 0, 1, 1, 1, 0, 0, 1, 1, 0, 0, 0, 1, 0, 1, 1, 0, 1, 0, 1, 0, 1, 0, 0, 1]\n",
            "time: 3.42 ms (started: 2023-10-18 19:36:24 +00:00)\n"
          ]
        }
      ]
    },
    {
      "cell_type": "code",
      "metadata": {
        "id": "several-unemployment",
        "outputId": "29638331-9cc9-4ad2-940d-0a5d2cd0d467",
        "colab": {
          "base_uri": "https://localhost:8080/"
        }
      },
      "source": [
        "from random import randint\n",
        "a = [randint(0, 1) for j in range(10000)]\n",
        "b = [randint(0, 1) for j in range(10000)]\n"
      ],
      "id": "several-unemployment",
      "execution_count": 13,
      "outputs": [
        {
          "output_type": "stream",
          "name": "stdout",
          "text": [
            "time: 47.6 ms (started: 2023-10-18 19:36:24 +00:00)\n"
          ]
        }
      ]
    },
    {
      "cell_type": "code",
      "metadata": {
        "id": "conservative-being",
        "outputId": "b93fe472-a35e-45e3-eded-290d2e097026",
        "colab": {
          "base_uri": "https://localhost:8080/"
        }
      },
      "source": [
        "c = grade_school_multiply(a,b)"
      ],
      "id": "conservative-being",
      "execution_count": 14,
      "outputs": [
        {
          "output_type": "stream",
          "name": "stdout",
          "text": [
            "time: 27.8 s (started: 2023-10-18 19:36:24 +00:00)\n"
          ]
        }
      ]
    },
    {
      "cell_type": "code",
      "metadata": {
        "id": "macro-alexandria",
        "outputId": "1c20c9da-317c-452a-e1fa-0c89f29d8691",
        "colab": {
          "base_uri": "https://localhost:8080/"
        }
      },
      "source": [
        "c = karatsuba_multiply(a, b)"
      ],
      "id": "macro-alexandria",
      "execution_count": 15,
      "outputs": [
        {
          "output_type": "stream",
          "name": "stdout",
          "text": [
            "time: 21.3 s (started: 2023-10-18 19:36:52 +00:00)\n"
          ]
        }
      ]
    }
  ]
}