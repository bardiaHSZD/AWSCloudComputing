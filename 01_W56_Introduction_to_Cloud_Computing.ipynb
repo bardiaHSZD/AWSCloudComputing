{
  "nbformat": 4,
  "nbformat_minor": 0,
  "metadata": {
    "colab": {
      "provenance": [],
      "toc_visible": true,
      "authorship_tag": "ABX9TyMkTt55+dLVlTtczggrcU4R",
      "include_colab_link": true
    },
    "kernelspec": {
      "name": "python3",
      "display_name": "Python 3"
    },
    "language_info": {
      "name": "python"
    }
  },
  "cells": [
    {
      "cell_type": "markdown",
      "metadata": {
        "id": "view-in-github",
        "colab_type": "text"
      },
      "source": [
        "<a href=\"https://colab.research.google.com/github/bardiaHSZD/CloudComputing/blob/main/01_W56_Introduction_to_Cloud_Computing.ipynb\" target=\"_parent\"><img src=\"https://colab.research.google.com/assets/colab-badge.svg\" alt=\"Open In Colab\"/></a>"
      ]
    },
    {
      "cell_type": "markdown",
      "source": [
        "#**05_01_Cloud Security Monitoring**"
      ],
      "metadata": {
        "id": "SqUP1qSy4_zP"
      }
    },
    {
      "cell_type": "markdown",
      "source": [],
      "metadata": {
        "id": "bEbAkG-SzZqM"
      }
    },
    {
      "cell_type": "code",
      "source": [],
      "metadata": {
        "id": "xOyLbEVF2wKc"
      },
      "execution_count": null,
      "outputs": []
    }
  ]
}