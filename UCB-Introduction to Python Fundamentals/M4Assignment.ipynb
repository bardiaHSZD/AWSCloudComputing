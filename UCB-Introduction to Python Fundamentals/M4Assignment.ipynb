{
  "cells": [
    {
      "cell_type": "markdown",
      "metadata": {
        "id": "cnAUJprJdh9_"
      },
      "source": [
        "# Welcome to our last assignment!"
      ]
    },
    {
      "cell_type": "markdown",
      "metadata": {
        "id": "vVYcayGedmms"
      },
      "source": [
        "This assignment is about testing your understanding of flow control: repetition.\n",
        "\n",
        "We are going to create some simple programs using these tools. Are you ready? Let's get started!"
      ]
    },
    {
      "cell_type": "markdown",
      "metadata": {
        "id": "JP8eGBVyeSQx"
      },
      "source": [
        "You will find some small tasks in sections below. You should use input() to get the user to enter the information and use print() to print the information on the screen. At this moment, we can assume users will follow instructions carefully - they will enter the valid inputs as required."
      ]
    },
    {
      "cell_type": "markdown",
      "metadata": {
        "id": "TNbXeCDFeAcJ"
      },
      "source": [
        "## Prime Numbers\n",
        "> Let's be kind to welcome 1 as a prime number for this exercise.\n",
        "\n",
        "### Instruction:\n",
        "\n",
        "Step 1: Ask the user to enter an integer\n",
        "\n",
        "Step 2: find and print all prime numbers up to the integer."
      ]
    },
    {
      "cell_type": "code",
      "execution_count": null,
      "metadata": {
        "id": "x6IbZ6rFw76O"
      },
      "outputs": [],
      "source": [
        "# your code is here"
      ]
    },
    {
      "cell_type": "markdown",
      "metadata": {
        "id": "cZmW-HnwyHcI"
      },
      "source": [
        "## A Simple Grade Book\n",
        "\n",
        "###Instruction: You are going to program a simple grade book.\n",
        "\n",
        "step1: Ask the user to enter the number of students in a class\n",
        "\n",
        "step2: Ask the user to enter the grade (in a 0-100 scale) of each student  \n",
        "\n",
        "step3: Calculate and print the average, min, and max grade of the class."
      ]
    },
    {
      "cell_type": "code",
      "execution_count": null,
      "metadata": {
        "id": "wk6FHvAvyr_G"
      },
      "outputs": [],
      "source": [
        "# your code is here"
      ]
    },
    {
      "cell_type": "markdown",
      "metadata": {
        "id": "UQBB918Z2e9F"
      },
      "source": [
        "## Fahrenheit to Celcius Converter\n",
        "\n",
        "###Instruction: You are going to program a simple converter which converts a Fahrenheit degree to Celcius degree..\n",
        "\n",
        "step1: Ask the user to enter the number in Fahrenheit, (enter stop to quit the program) \n",
        "\n",
        "step2: Calculate the celcius based on the formular c = (f - 32) * 5 / 9\n",
        "\n",
        "step3: print the celcius "
      ]
    },
    {
      "cell_type": "code",
      "execution_count": null,
      "metadata": {
        "id": "KCYqU3Sp2cpT"
      },
      "outputs": [],
      "source": [
        "# your code is here"
      ]
    },
    {
      "cell_type": "markdown",
      "metadata": {
        "id": "AhO_LPgG3S1R"
      },
      "source": [
        "## How many E and e in a sentence?\n",
        "\n",
        "###Instruction: You are going to program a simple counter which finds how many 'E' and 'e' in a sentence entered by the user.\n",
        "\n",
        "step1: Ask the user to enter a sentence\n",
        "\n",
        "step2: Count the number of 'E', and the number of 'e'\n",
        "> hint: You can use a for loop to iterate all the characters in a string, such as `for c in sentence`, then compare `c` with `e` and `E`.\n",
        "\n",
        "step3: print the result"
      ]
    },
    {
      "cell_type": "code",
      "execution_count": 2,
      "metadata": {
        "id": "2bODNGPSx1-m"
      },
      "outputs": [
        {
          "name": "stdout",
          "output_type": "stream",
          "text": [
            "e was repeated: 4  times\n",
            "E was repeated: 2  times\n"
          ]
        }
      ],
      "source": [
        "sentence = input(\"Enter a sentence: \")\n",
        "count_e = 0\n",
        "count_E = 0\n",
        "for c in sentence:\n",
        "    if c == \"e\":\n",
        "        count_e += 1\n",
        "    elif c==\"E\":\n",
        "        count_E += 1\n",
        "\n",
        "print('e was repeated:', count_e, ' times')        \n",
        "print('E was repeated:', count_E, ' times')\n",
        "            "
      ]
    },
    {
      "cell_type": "markdown",
      "metadata": {
        "id": "fZfiqg5lxFKF"
      },
      "source": [
        "## Binary Converter (Optional)\n",
        "\n",
        "###Instruction: You are going to program a decimal to binary converter.\n",
        "> Hint: For example, convert decimal 11 to binary number, we follows: 11 % 2 = **1** (you need to record it), 11 // 2 = 5; 5 % 2 = **1** (you need to record it), 5 // 2 = 2; 2 % 2 = **0**, 2 // 2 = **1**. Now you will concatenate them reversly, from the last 1, then the 0, then 1, then 1. You get 1011 as the binary representation of decimal 11.\n",
        "\n",
        "step1: Ask the user to enter a positive decimal integer.\n",
        "\n",
        "step2: Calculate the binary representation of the integer by keep dividing until the reminder is less than 2, keep record of all the reminders.\n",
        "\n",
        "step3: Print reminders as the binary representation."
      ]
    },
    {
      "cell_type": "code",
      "execution_count": 22,
      "metadata": {
        "id": "6ZAwOiuO5G0X"
      },
      "outputs": [
        {
          "name": "stdout",
          "output_type": "stream",
          "text": [
            "1101111000\n"
          ]
        }
      ],
      "source": [
        "number = int(input('Enter a number (10-base):'))\n",
        "mod = number\n",
        "rem = 0\n",
        "base = 2\n",
        "result = 0\n",
        "count = 0\n",
        "if number >= 0 :\n",
        "    while mod>=(base):\n",
        "        mod = number//base\n",
        "        rem = number%2\n",
        "        number = mod\n",
        "        result += (rem * (10**(count)))\n",
        "        count += 1\n",
        "    result += (mod * (10**(count)))  \n",
        "    print(result) \n",
        "else:\n",
        "    print('Entered number is negative!')     \n"
      ]
    },
    {
      "cell_type": "markdown",
      "metadata": {
        "id": "7Ysdu7UJ_qf8"
      },
      "source": [
        "**Congratulations! You finished this Assignment and completed Module 4!**"
      ]
    }
  ],
  "metadata": {
    "colab": {
      "provenance": [],
      "toc_visible": true
    },
    "kernelspec": {
      "display_name": "Python 3",
      "name": "python3"
    },
    "language_info": {
      "codemirror_mode": {
        "name": "ipython",
        "version": 3
      },
      "file_extension": ".py",
      "mimetype": "text/x-python",
      "name": "python",
      "nbconvert_exporter": "python",
      "pygments_lexer": "ipython3",
      "version": "3.9.6"
    }
  },
  "nbformat": 4,
  "nbformat_minor": 0
}
